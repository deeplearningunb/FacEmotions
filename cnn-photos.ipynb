{
 "cells": [
  {
   "cell_type": "code",
   "execution_count": 18,
   "metadata": {
    "_cell_guid": "b1076dfc-b9ad-4769-8c92-a6c4dae69d19",
    "_uuid": "8f2839f25d086af736a60e9eeb907d3b93b6e0e5",
    "execution": {
     "iopub.execute_input": "2021-10-30T03:31:43.658426Z",
     "iopub.status.busy": "2021-10-30T03:31:43.658163Z",
     "iopub.status.idle": "2021-10-30T03:31:43.667648Z",
     "shell.execute_reply": "2021-10-30T03:31:43.666938Z",
     "shell.execute_reply.started": "2021-10-30T03:31:43.658396Z"
    }
   },
   "outputs": [],
   "source": [
    "import math\n",
    "import numpy as np\n",
    "import pandas as pd\n",
    "\n",
    "import scikitplot\n",
    "import seaborn as sns\n",
    "from matplotlib import pyplot\n",
    "\n",
    "from sklearn.model_selection import train_test_split\n",
    "from sklearn.preprocessing import LabelEncoder\n",
    "from sklearn.metrics import classification_report\n",
    "from sklearn.metrics import plot_confusion_matrix\n",
    "\n",
    "import tensorflow as tf\n",
    "from tensorflow.keras import optimizers\n",
    "from tensorflow.keras.datasets import mnist\n",
    "from tensorflow.keras.models import Sequential\n",
    "from tensorflow.keras.layers import Flatten, Dense, Conv2D, MaxPooling2D\n",
    "from tensorflow.keras.layers import Dropout, BatchNormalization, LeakyReLU, Activation\n",
    "from tensorflow.keras.preprocessing.image import ImageDataGenerator"
   ]
  },
  {
   "cell_type": "code",
   "execution_count": 4,
   "metadata": {
    "execution": {
     "iopub.execute_input": "2021-10-30T02:57:54.729009Z",
     "iopub.status.busy": "2021-10-30T02:57:54.728737Z",
     "iopub.status.idle": "2021-10-30T02:57:54.733019Z",
     "shell.execute_reply": "2021-10-30T02:57:54.732390Z",
     "shell.execute_reply.started": "2021-10-30T02:57:54.728973Z"
    }
   },
   "outputs": [],
   "source": [
    "train_dir = \"../input/emotion-detection-fer/train\" #passing the path with training images\n",
    "test_dir = \"../input/emotion-detection-fer/test\"   #passing the path with testing images"
   ]
  },
  {
   "cell_type": "code",
   "execution_count": 5,
   "metadata": {
    "execution": {
     "iopub.execute_input": "2021-10-30T02:57:54.734570Z",
     "iopub.status.busy": "2021-10-30T02:57:54.734157Z",
     "iopub.status.idle": "2021-10-30T02:57:54.750654Z",
     "shell.execute_reply": "2021-10-30T02:57:54.749938Z",
     "shell.execute_reply.started": "2021-10-30T02:57:54.734531Z"
    }
   },
   "outputs": [],
   "source": [
    "img_size = 48 #original size of the image"
   ]
  },
  {
   "cell_type": "code",
   "execution_count": 6,
   "metadata": {
    "execution": {
     "iopub.execute_input": "2021-10-30T02:57:54.753305Z",
     "iopub.status.busy": "2021-10-30T02:57:54.752884Z",
     "iopub.status.idle": "2021-10-30T02:57:54.760160Z",
     "shell.execute_reply": "2021-10-30T02:57:54.759295Z",
     "shell.execute_reply.started": "2021-10-30T02:57:54.753267Z"
    }
   },
   "outputs": [],
   "source": [
    "train_datagen = ImageDataGenerator(rescale = 1./255,\n",
    "                                   shear_range = 0.2,\n",
    "                                   zoom_range = 0.2,\n",
    "                                   horizontal_flip = True)"
   ]
  },
  {
   "cell_type": "code",
   "execution_count": 7,
   "metadata": {
    "execution": {
     "iopub.execute_input": "2021-10-30T02:57:54.762337Z",
     "iopub.status.busy": "2021-10-30T02:57:54.762125Z",
     "iopub.status.idle": "2021-10-30T02:57:54.769258Z",
     "shell.execute_reply": "2021-10-30T02:57:54.768497Z",
     "shell.execute_reply.started": "2021-10-30T02:57:54.762300Z"
    }
   },
   "outputs": [],
   "source": [
    "validation_datagen = ImageDataGenerator(rescale = 1./255,\n",
    "                                         validation_split = 0.2)"
   ]
  },
  {
   "cell_type": "code",
   "execution_count": 8,
   "metadata": {
    "execution": {
     "iopub.execute_input": "2021-10-30T02:57:54.771330Z",
     "iopub.status.busy": "2021-10-30T02:57:54.770814Z",
     "iopub.status.idle": "2021-10-30T02:58:11.785764Z",
     "shell.execute_reply": "2021-10-30T02:58:11.784994Z",
     "shell.execute_reply.started": "2021-10-30T02:57:54.771294Z"
    }
   },
   "outputs": [],
   "source": [
    "train_generator = train_datagen.flow_from_directory(directory = train_dir,\n",
    "                                                    target_size = (img_size,img_size),\n",
    "                                                    batch_size = 32,\n",
    "                                                    color_mode = \"grayscale\",\n",
    "                                                    class_mode = \"categorical\",\n",
    "                                                    subset = \"training\"\n",
    "                                                   )\n"
   ]
  },
  {
   "cell_type": "code",
   "execution_count": 9,
   "metadata": {
    "execution": {
     "iopub.execute_input": "2021-10-30T02:58:11.787340Z",
     "iopub.status.busy": "2021-10-30T02:58:11.786927Z",
     "iopub.status.idle": "2021-10-30T02:58:13.944889Z",
     "shell.execute_reply": "2021-10-30T02:58:13.944126Z",
     "shell.execute_reply.started": "2021-10-30T02:58:11.787302Z"
    }
   },
   "outputs": [],
   "source": [
    "validation_generator = validation_datagen.flow_from_directory( directory = test_dir,\n",
    "                                                              target_size = (img_size,img_size),\n",
    "                                                              batch_size = 32,\n",
    "                                                              color_mode = \"grayscale\",\n",
    "                                                              class_mode = \"categorical\",\n",
    "                                                              subset = \"validation\"\n",
    "                                                             )"
   ]
  },
  {
   "cell_type": "code",
   "execution_count": 10,
   "metadata": {
    "execution": {
     "iopub.execute_input": "2021-10-30T02:58:13.946445Z",
     "iopub.status.busy": "2021-10-30T02:58:13.946193Z",
     "iopub.status.idle": "2021-10-30T02:58:13.950169Z",
     "shell.execute_reply": "2021-10-30T02:58:13.949497Z",
     "shell.execute_reply.started": "2021-10-30T02:58:13.946410Z"
    }
   },
   "outputs": [],
   "source": [
    "num_classes = 7"
   ]
  },
  {
   "cell_type": "code",
   "execution_count": 11,
   "metadata": {
    "execution": {
     "iopub.execute_input": "2021-10-30T02:58:13.952469Z",
     "iopub.status.busy": "2021-10-30T02:58:13.951568Z",
     "iopub.status.idle": "2021-10-30T02:58:16.420124Z",
     "shell.execute_reply": "2021-10-30T02:58:16.418522Z",
     "shell.execute_reply.started": "2021-10-30T02:58:13.952414Z"
    }
   },
   "outputs": [],
   "source": [
    "# Inicializing the cnn\n",
    "cnn = Sequential()\n",
    "\n",
    "# First Layer \n",
    "cnn.add(\n",
    "    Conv2D(\n",
    "        filters = 64,\n",
    "        kernel_size=(5,5),\n",
    "        input_shape=(img_size, img_size, 1),\n",
    "        activation = 'elu',\n",
    "        name = 'Conv2D_1'\n",
    "    )\n",
    ")\n",
    "\n",
    "cnn.add(BatchNormalization(name='batchnorm_1'))\n",
    "    \n",
    "# Second Layer\n",
    "cnn.add(\n",
    "        Conv2D(\n",
    "            filters=64,\n",
    "            kernel_size=(5,5),\n",
    "            activation='elu',\n",
    "            name='conv2d_2'\n",
    "        )\n",
    "    )\n",
    "\n",
    "cnn.add(BatchNormalization(name='batchnorm_2'))\n",
    "\n",
    "cnn.add(MaxPooling2D(pool_size=(2,2), name='maxpool2d_1'))\n",
    "cnn.add(Dropout(0.4, name='dropout_1'))\n",
    "\n",
    "# Third Layer\n",
    "cnn.add(\n",
    "        Conv2D(\n",
    "            filters=128,\n",
    "            kernel_size=(3,3),\n",
    "            activation='elu',\n",
    "            name='conv2d_3'\n",
    "        )\n",
    "    )\n",
    "\n",
    "cnn.add(BatchNormalization(name='batchnorm_3'))\n",
    "    \n",
    "# Fouth Layer\n",
    "cnn.add(\n",
    "        Conv2D(\n",
    "            filters=128,\n",
    "            kernel_size=(3,3),\n",
    "            activation='elu',\n",
    "            name='conv2d_4'\n",
    "        )\n",
    "    )\n",
    "cnn.add(BatchNormalization(name='batchnorm_4'))\n",
    "\n",
    "cnn.add(MaxPooling2D(pool_size=(2,2), name='maxpool2d_2'))\n",
    "cnn.add(Dropout(0.4, name='dropout_2'))\n",
    "\n",
    "\n",
    "# flattening\n",
    "cnn.add(Flatten(name='flatten'))\n",
    "    \n",
    "# densing\n",
    "cnn.add(\n",
    "    Dense(\n",
    "        128,\n",
    "        activation='elu',\n",
    "        kernel_initializer='he_normal',\n",
    "        name='dense_1'\n",
    "    )\n",
    ")\n",
    "cnn.add(BatchNormalization(name='batchnorm_7'))\n",
    "\n",
    "cnn.add(Dropout(0.6, name='dropout_4'))\n",
    "\n",
    "cnn.add(\n",
    "    Dense(\n",
    "        num_classes,\n",
    "        activation='softmax',\n",
    "        name='out_layer'\n",
    "    )\n",
    ")\n",
    "\n",
    "cnn.compile(\n",
    "        loss='categorical_crossentropy',\n",
    "        optimizer='adam',\n",
    "        metrics=['accuracy']\n",
    "    )"
   ]
  },
  {
   "cell_type": "code",
   "execution_count": 12,
   "metadata": {
    "execution": {
     "iopub.execute_input": "2021-10-30T02:58:16.423124Z",
     "iopub.status.busy": "2021-10-30T02:58:16.422385Z",
     "iopub.status.idle": "2021-10-30T02:58:16.426531Z",
     "shell.execute_reply": "2021-10-30T02:58:16.425857Z",
     "shell.execute_reply.started": "2021-10-30T02:58:16.423083Z"
    }
   },
   "outputs": [],
   "source": [
    "epochs = 50\n",
    "batch_size = 32"
   ]
  },
  {
   "cell_type": "code",
   "execution_count": 13,
   "metadata": {
    "execution": {
     "iopub.execute_input": "2021-10-30T02:58:16.428157Z",
     "iopub.status.busy": "2021-10-30T02:58:16.427566Z",
     "iopub.status.idle": "2021-10-30T02:58:16.445164Z",
     "shell.execute_reply": "2021-10-30T02:58:16.444498Z",
     "shell.execute_reply.started": "2021-10-30T02:58:16.428120Z"
    }
   },
   "outputs": [],
   "source": [
    "cnn.summary()"
   ]
  },
  {
   "cell_type": "code",
   "execution_count": 14,
   "metadata": {
    "execution": {
     "iopub.execute_input": "2021-10-30T02:58:16.448014Z",
     "iopub.status.busy": "2021-10-30T02:58:16.447822Z",
     "iopub.status.idle": "2021-10-30T03:28:54.066516Z",
     "shell.execute_reply": "2021-10-30T03:28:54.065724Z",
     "shell.execute_reply.started": "2021-10-30T02:58:16.447991Z"
    }
   },
   "outputs": [],
   "source": [
    "history = cnn.fit(x = train_generator,epochs = epochs,validation_data = validation_generator)"
   ]
  },
  {
   "cell_type": "code",
   "execution_count": 16,
   "metadata": {
    "execution": {
     "iopub.execute_input": "2021-10-30T03:28:55.721401Z",
     "iopub.status.busy": "2021-10-30T03:28:55.721146Z",
     "iopub.status.idle": "2021-10-30T03:28:55.803607Z",
     "shell.execute_reply": "2021-10-30T03:28:55.802852Z",
     "shell.execute_reply.started": "2021-10-30T03:28:55.721373Z"
    }
   },
   "outputs": [],
   "source": [
    "cnn.save(\"CNN_PHOTOS_2.h5\")"
   ]
  },
  {
   "cell_type": "code",
   "execution_count": 21,
   "metadata": {
    "execution": {
     "iopub.execute_input": "2021-10-30T03:32:47.201115Z",
     "iopub.status.busy": "2021-10-30T03:32:47.200822Z",
     "iopub.status.idle": "2021-10-30T03:32:47.225175Z",
     "shell.execute_reply": "2021-10-30T03:32:47.224355Z",
     "shell.execute_reply.started": "2021-10-30T03:32:47.201077Z"
    }
   },
   "outputs": [],
   "source": [
    "plot_confusion_matrix(cnn,train_generator ,validation_generator )  \n",
    "plt.show()"
   ]
  },
  {
   "cell_type": "code",
   "execution_count": null,
   "metadata": {},
   "outputs": [],
   "source": []
  }
 ],
 "metadata": {
  "kernelspec": {
   "display_name": "Python 3",
   "language": "python",
   "name": "python3"
  },
  "language_info": {
   "codemirror_mode": {
    "name": "ipython",
    "version": 3
   },
   "file_extension": ".py",
   "mimetype": "text/x-python",
   "name": "python",
   "nbconvert_exporter": "python",
   "pygments_lexer": "ipython3",
   "version": "3.8.11"
  }
 },
 "nbformat": 4,
 "nbformat_minor": 4
}
